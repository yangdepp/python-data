{
 "cells": [
  {
   "cell_type": "code",
   "execution_count": 1,
   "metadata": {},
   "outputs": [],
   "source": [
    "#引入需要的python包"
   ]
  },
  {
   "cell_type": "code",
   "execution_count": 2,
   "metadata": {},
   "outputs": [
    {
     "name": "stdout",
     "output_type": "stream",
     "text": [
      "   省级政区代码 省级政区名称  地市级政区代码 地市级政区名称    年份 党委书记姓名  出生年份  出生月份  籍贯省份代码 籍贯省份名称  \\\n",
      "0  130000    河北省   130100    石家庄市  2000    陈来立   NaN   NaN     NaN    NaN   \n",
      "1  130000    河北省   130100    石家庄市  2001    吴振华   NaN   NaN     NaN    NaN   \n",
      "2  130000    河北省   130100    石家庄市  2002    吴振华   NaN   NaN     NaN    NaN   \n",
      "3  130000    河北省   130100    石家庄市  2003    吴振华   NaN   NaN     NaN    NaN   \n",
      "4  130000    河北省   130100    石家庄市  2004    吴振华   NaN   NaN     NaN    NaN   \n",
      "\n",
      "   ...    民族  教育 是否是党校教育（是=1，否=0） 专业：人文 专业：社科  专业：理工  专业：农科  专业：医科  入党年份  工作年份  \n",
      "0  ...   NaN  硕士              1.0   NaN   NaN    NaN    NaN    NaN   NaN   NaN  \n",
      "1  ...   NaN  本科              0.0   0.0   0.0    1.0    0.0    0.0   NaN   NaN  \n",
      "2  ...   NaN  本科              0.0   0.0   0.0    1.0    0.0    0.0   NaN   NaN  \n",
      "3  ...   NaN  本科              0.0   0.0   0.0    1.0    0.0    0.0   NaN   NaN  \n",
      "4  ...   NaN  本科              0.0   0.0   0.0    1.0    0.0    0.0   NaN   NaN  \n",
      "\n",
      "[5 rows x 23 columns]\n"
     ]
    }
   ],
   "source": [
    "import numpy as np\n",
    "import pandas as pd\n",
    "import matplotlib.pyplot as plt\n",
    "plt.rcParams['font.sans-serif'] = ['SimHei']\n",
    "\n",
    "data = pd.read_csv(\"/Users/yangyi/Desktop/plan/python-data/地市级党委书记数据库（2000-10）.csv\",encoding = 'gbk')\n",
    "print(data.head())"
   ]
  },
  {
   "cell_type": "code",
   "execution_count": 3,
   "metadata": {},
   "outputs": [
    {
     "name": "stdout",
     "output_type": "stream",
     "text": [
      "['省级政区代码', '省级政区名称', '地市级政区代码', '地市级政区名称', '年份', '党委书记姓名', '出生年份', '出生月份', '籍贯省份代码', '籍贯省份名称', '籍贯地市代码', '籍贯地市名称', '性别', '民族', '教育', '是否是党校教育（是=1，否=0）', '专业：人文', '专业：社科', '专业：理工', '专业：农科', '专业：医科', '入党年份', '工作年份']\n",
      "----------\n",
      "              省级政区代码        地市级政区代码           年份         出生年份         出生月份  \\\n",
      "count    3663.000000    3663.000000  3663.000000  2676.000000  2645.000000   \n",
      "mean   403393.393393  404456.756757  2005.000000  1953.622571     6.790548   \n",
      "std    148176.721620  148485.810327     3.162709     4.416316     3.614664   \n",
      "min    130000.000000  130100.000000  2000.000000  1941.000000     1.000000   \n",
      "25%    330000.000000  330100.000000  2002.000000  1951.000000     3.000000   \n",
      "\n",
      "              籍贯省份代码         籍贯地市代码  是否是党校教育（是=1，否=0）        专业：人文  \\\n",
      "count    2624.000000    2615.000000       2493.000000  2370.000000   \n",
      "mean   364428.353659  365742.332696          0.430405     0.275527   \n",
      "std    126267.485520  125961.993399          0.576136     0.446874   \n",
      "min    110000.000000  120000.000000          0.000000     0.000000   \n",
      "25%    320000.000000  320700.000000          0.000000     0.000000   \n",
      "\n",
      "             专业：社科        专业：理工        专业：农科        专业：医科         入党年份  \\\n",
      "count  2376.000000  2371.000000  2369.000000  2370.000000  2384.000000   \n",
      "mean      0.627525     0.256854     0.067539     0.009705  1976.906879   \n",
      "std       0.483566     0.436990     0.251006     0.098054     5.310080   \n",
      "min       0.000000     0.000000     0.000000     0.000000  1961.000000   \n",
      "25%       0.000000     0.000000     0.000000     0.000000  1973.000000   \n",
      "\n",
      "              工作年份  \n",
      "count  2568.000000  \n",
      "mean   1973.129673  \n",
      "std       4.856564  \n",
      "min    1958.000000  \n",
      "25%    1970.000000  \n"
     ]
    }
   ],
   "source": [
    "field = data.columns.tolist()\n",
    "print(field)\n",
    "print('----------')\n",
    "print(data.describe(include=[np.number]).head())\n",
    "\n",
    "#count代表总的数值\n",
    "#unique代表唯一值\n",
    "#top出现次数最多\n",
    "#frep是代表平均值"
   ]
  },
  {
   "cell_type": "code",
   "execution_count": 4,
   "metadata": {},
   "outputs": [
    {
     "data": {
      "text/plain": [
       "'\\npart1：性别问题\\n'"
      ]
     },
     "execution_count": 4,
     "metadata": {},
     "output_type": "execute_result"
    }
   ],
   "source": [
    "\"\"\"\n",
    "part1：性别问题\n",
    "\"\"\""
   ]
  },
  {
   "cell_type": "code",
   "execution_count": 5,
   "metadata": {},
   "outputs": [
    {
     "name": "stdout",
     "output_type": "stream",
     "text": [
      "count     2708\n",
      "unique       2\n",
      "top          男\n",
      "freq      2633\n",
      "Name: 性别, dtype: object\n",
      "---------------------------\n",
      "3663\n",
      "---------------------------\n",
      "0    NaN\n",
      "1    NaN\n",
      "2    NaN\n",
      "3    NaN\n",
      "4    NaN\n",
      "Name: 性别, dtype: object\n",
      "---------------------------\n",
      "样本量：2708\n",
      " 男性样本量：2633\n",
      " 女性样本量：75\n",
      " 男性比例：97.2%\n",
      " 女性比例：2.76%\n",
      "\n"
     ]
    }
   ],
   "source": [
    "data_gender = data['性别']\n",
    "data_gender_re = data_gender[data_gender.notnull()]  #缺失值索引判断\n",
    "print(data_gender_re.describe())\n",
    "print('---------------------------')\n",
    "print(len(data_gender))\n",
    "print('---------------------------')\n",
    "#print(data_gender_re)\n",
    "print(data_gender.head())\n",
    "#NaN代表缺失值\n",
    "print('---------------------------')\n",
    "count = len(data_gender_re)\n",
    "count_m = len(data_gender_re[data_gender_re == '男'])\n",
    "count_w = len(data_gender_re[data_gender_re == '女'])  \n",
    "rate_m = count_m/count\n",
    "rate_w = count_w/count\n",
    "print('样本量：' + str(count) + '\\n',\n",
    "      '男性样本量：' + str(count_m) + '\\n',\n",
    "      '女性样本量：' + str(count_w) + '\\n',\n",
    "      '男性比例：' + str(rate_m * 100)[:4] + '%' + '\\n',\n",
    "      '女性比例：' + str(rate_w * 100)[:4] + '%' + '\\n',\n",
    "     )\n",
    "\n"
   ]
  },
  {
   "cell_type": "code",
   "execution_count": 6,
   "metadata": {},
   "outputs": [
    {
     "name": "stdout",
     "output_type": "stream",
     "text": [
      "性别         女    男      女性占比\n",
      "省级政区名称                     \n",
      "辽宁省       13  121  0.097015\n",
      "陕西省        9   93  0.088235\n",
      "吉林省        4   72  0.052632\n",
      "山西省        6  112  0.050847\n",
      "四川省        8  155  0.049080\n",
      "安徽省        7  167  0.040230\n",
      "江西省        4  113  0.034188\n",
      "山东省        6  178  0.032609\n",
      "福建省        3   96  0.030303\n",
      "云南省        2   73  0.026667\n",
      "浙江省        3  114  0.025641\n",
      "广东省        5  212  0.023041\n",
      "江苏省        3  129  0.022727\n",
      "湖南省        1  126  0.007874\n",
      "河南省        1  182  0.005464\n",
      "新疆维吾尔自治区   0   21  0.000000\n",
      "内蒙古自治区     0   86  0.000000\n",
      "海南省        0   22  0.000000\n",
      "湖北省        0  123  0.000000\n",
      "甘肃省        0  109  0.000000\n",
      "广西壮族自治区    0  122  0.000000\n",
      "贵州省        0   36  0.000000\n",
      "宁夏回族自治区    0   49  0.000000\n",
      "青海省        0   11  0.000000\n",
      "黑龙江省       0  111  0.000000\n"
     ]
    }
   ],
   "source": [
    "#按省份分析市委书记女性比例\n",
    "\n",
    "data_gender2 = data[['省级政区名称','性别']]\n",
    "data_gender2_re = data_gender2[data_gender2['性别'].notnull()]\n",
    "pt = pd.crosstab(data_gender2_re['省级政区名称'],data_gender2_re['性别'])\n",
    "pt['女性占比'] = pt['女'] / (pt['男'] + pt['女'])\n",
    "pt2 = pt.sort_values(by= ['女性占比'] , ascending=False)\n",
    "print(pt2)"
   ]
  },
  {
   "cell_type": "code",
   "execution_count": 11,
   "metadata": {},
   "outputs": [
    {
     "data": {
      "image/png": "[encoded data removed]",
      "text/plain": [
       "<matplotlib.figure.Figure at 0x120914668>"
      ]
     },
     "metadata": {},
     "output_type": "display_data"
    }
   ],
   "source": [
    "fig_q1_1 = plt.figure(figsize= (15 ,7))\n",
    "\n",
    "index = pt2.index[:15]\n",
    "plt.bar(range(15),pt2['女性占比'][:15], tick_label = index)\n",
    "plt.title('中国各省份女性市委书记占比')\n",
    "plt.show()"
   ]
  },
  {
   "cell_type": "code",
   "execution_count": null,
   "metadata": {},
   "outputs": [],
   "source": []
  },
  {
   "cell_type": "code",
   "execution_count": null,
   "metadata": {},
   "outputs": [],
   "source": []
  }
 ],
 "metadata": {
  "kernelspec": {
   "display_name": "Python 3",
   "language": "python",
   "name": "python3"
  },
  "language_info": {
   "codemirror_mode": {
    "name": "ipython",
    "version": 3
   },
   "file_extension": ".py",
   "mimetype": "text/x-python",
   "name": "python",
   "nbconvert_exporter": "python",
   "pygments_lexer": "ipython3",
   "version": "3.6.4"
  }
 },
 "nbformat": 4,
 "nbformat_minor": 2
}
