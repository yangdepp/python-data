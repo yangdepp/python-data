{
 "cells": [
  {
   "cell_type": "code",
   "execution_count": 65,
   "metadata": {},
   "outputs": [
    {
     "name": "stdout",
     "output_type": "stream",
     "text": [
      "hello yangdepu\n",
      "I'm \"ok\"\n",
      "hhh\n",
      "hahah \n",
      "hhh\n",
      "False\n",
      "child\n",
      "3.3333333333333335\n",
      "3\n",
      "1\n",
      "3.0\n",
      "3\n",
      "hello, world\n",
      "hello, 1000\n",
      " 3-01\n",
      "3.14\n",
      "-----------------------------------------------\n",
      "6\n",
      "[1, 3, 4, 5, 6, '7']\n"
     ]
    }
   ],
   "source": [
    "#name = input('请输入您的姓名：')\n",
    "name = 'yangdepu'\n",
    "print('hello', name)\n",
    "print(\"I\\'m \\\"ok\\\"\")\n",
    "print('''hhh\n",
    "hahah \n",
    "hhh''')\n",
    "print(not True)\n",
    "age = 17\n",
    "if age > 18:\n",
    "    print('adult')\n",
    "else:\n",
    "    print('child')\n",
    "    \n",
    "a1 = 10 / 3\n",
    "print(a1)\n",
    "a1 = 10 // 3\n",
    "print(a1)\n",
    "a1 = 10 % 3\n",
    "print(a1)\n",
    "a1 = 9 / 3\n",
    "print(a1)\n",
    "a1 = 9 // 3\n",
    "print(a1)\n",
    "\n",
    "len('xxx')\n",
    "\n",
    "print('hello, %s' % 'world' )\n",
    "print('hello, %d' % 1000)\n",
    "print('%2d-%02d' % (3,1))\n",
    "print('%.2f' % 3.141592653)\n",
    "\n",
    "'Hello, {1},成绩提升了{1:.1f}%'.format('小明',3.141592653)\n",
    "print('-----------------------------------------------')\n",
    "classmates = [1,2,3,4,5,6]\n",
    "classmates.append('7')\n",
    "classmates.pop(1)\n",
    "print(len(classmates))\n",
    "print(classmates)\n"
   ]
  },
  {
   "cell_type": "code",
   "execution_count": null,
   "metadata": {},
   "outputs": [],
   "source": []
  }
 ],
 "metadata": {
  "kernelspec": {
   "display_name": "Python 3",
   "language": "python",
   "name": "python3"
  },
  "language_info": {
   "codemirror_mode": {
    "name": "ipython",
    "version": 3
   },
   "file_extension": ".py",
   "mimetype": "text/x-python",
   "name": "python",
   "nbconvert_exporter": "python",
   "pygments_lexer": "ipython3",
   "version": "3.6.4"
  }
 },
 "nbformat": 4,
 "nbformat_minor": 2
}
