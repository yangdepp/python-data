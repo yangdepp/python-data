{
 "cells": [
  {
   "cell_type": "code",
   "execution_count": 1,
   "metadata": {},
   "outputs": [
    {
     "name": "stdout",
     "output_type": "stream",
     "text": [
      "[1, 3, 5, 7, 9, 11, 13, 15, 17, 19, 21, 23, 25, 27, 29, 31, 33, 35, 37, 39, 41, 43, 45, 47, 49, 51, 53, 55, 57, 59, 61, 63, 65, 67, 69, 71, 73, 75, 77, 79, 81, 83, 85, 87, 89, 91, 93, 95, 97, 99]\n"
     ]
    }
   ],
   "source": [
    "#高级特性\n",
    "#构造一个1-99的奇数list列表\n",
    "list1 = []\n",
    "n = 1\n",
    "while n <100:\n",
    "    list1.append(n)\n",
    "    n = n + 2\n",
    "print(list1)\n",
    "#python中，代码时越少越好"
   ]
  },
  {
   "cell_type": "code",
   "execution_count": 39,
   "metadata": {},
   "outputs": [
    {
     "name": "stdout",
     "output_type": "stream",
     "text": [
      "[1, 2, 3]\n",
      "[1, 2, 3]\n",
      "[6, 7, 8]\n",
      "[6, 7, 8, 9]\n",
      "[5, 6, 7, 8, 9]\n",
      "[6]\n",
      "[1, 3, 5]\n",
      "[0, 5, 10, 15, 20, 25, 30, 35, 40, 45, 50, 55, 60, 65, 70, 75, 80, 85, 90, 95, 100]\n",
      "(1, 2, 3)\n",
      "(1, 2, 3, 4, 5, 6, 7, 8, 9, 10)\n",
      "abc\n"
     ]
    }
   ],
   "source": [
    "#python的切片功能\n",
    "list2 = [1,2,3,4,5,6,7,8,9]\n",
    "print(list2[0:3])   #表示从索引0开始，直到索引3为止，但不包括3，如果第一个索引是0还可以省略\n",
    "print(list2[:3])\n",
    "print(list2[5:-1])\n",
    "print(list2[5:])\n",
    "print(list2[-5:])\n",
    "print(list2[5:-3])\n",
    "#前6个数每两个取一个\n",
    "print(list2[:6:2])\n",
    "list21 = list(range(101))\n",
    "print(list21[::5])\n",
    "\n",
    "tuple21 = (1,2,3,4,5,6,7,8,9,10)\n",
    "print(tuple21[:3])\n",
    "print(tuple21)\n",
    "\n",
    "str21 = 'abcdefghijklmn'\n",
    "print(str21[:3])"
   ]
  },
  {
   "cell_type": "code",
   "execution_count": 11,
   "metadata": {},
   "outputs": [
    {
     "name": "stdout",
     "output_type": "stream",
     "text": [
      "a\n",
      "b\n",
      "c\n",
      "-------------------\n",
      "1\n",
      "2\n",
      "3\n",
      "-------------------\n",
      "a 1\n",
      "b 2\n",
      "c 3\n",
      "-------------------\n",
      "0 1\n",
      "1 2\n",
      "2 3\n",
      "3 4\n",
      "4 5\n",
      "-------------------\n",
      "1 2\n",
      "1 4\n",
      "1 9\n",
      "1 16\n",
      "-------------------\n"
     ]
    },
    {
     "data": {
      "text/plain": [
       "['hello', 'world', 'python']"
      ]
     },
     "execution_count": 11,
     "metadata": {},
     "output_type": "execute_result"
    }
   ],
   "source": [
    "#python的迭代\n",
    "d3 = {'a':1,'b':2,'c':3}\n",
    "for key in d3:\n",
    "    print(key)\n",
    "\n",
    "print('-------------------')\n",
    "#默认情况dict迭代的是key，如果要迭代value\n",
    "for value in d3.values():\n",
    "    print(value)\n",
    "print('-------------------')\n",
    "#既要迭代key又要迭代value\n",
    "for k3,v3 in d3.items():\n",
    "    print(k3,v3)\n",
    "    \n",
    "#只要是可以迭代的对象，都可以通过for  in循环进行迭代\n",
    "#如何判断一个对象是否可以迭代\n",
    "from collections import Iterable\n",
    "isinstance('abc',Iterable)\n",
    "isinstance(123,Iterable)\n",
    "print('-------------------')\n",
    "\n",
    "#python实现带下标循环\n",
    "for i, value in enumerate([1,2,3,4,5]):\n",
    "    print(i,value)\n",
    "    \n",
    "print('-------------------')\n",
    "\n",
    "#python实现下标循环外加双参数循环\n",
    "for i5,item5 in [(1,2),(1,4),(1,9),(1,16)]:\n",
    "    print(i5,item5)\n",
    "\n",
    "print('-------------------')\n",
    "#重写无聊函数\n",
    "list3 = []\n",
    "def func3(num):\n",
    "    while num != 1:\n",
    "        if(num % 2 == 0):\n",
    "            num = num / 2\n",
    "            list3.append(int(num))\n",
    "        else:\n",
    "            num = num * 3 + 1\n",
    "            list3.append(int(num))\n",
    "    for i3,value in enumerate(list3):\n",
    "        print(i3+1,value)\n",
    "\n",
    "#func3(27)\n",
    "\n",
    "#列表生成式\n",
    "[x3 * x3 for x3 in range(101)]\n",
    "#for 循环还可以加上if判断，生成偶数的平方\n",
    "[x31 * x31 for x31 in range(101) if x31 % 2 == 0]\n",
    "#还可以使用两层循环，可以生成全排列\n",
    "[m3 + n3 for m3 in 'ABC' for n3 in 'XYZ']\n",
    "\n",
    "#生成当前目录下所有文件和文件夹名\n",
    "import os\n",
    "[d3 for d3 in os.listdir('.')]\n",
    "\n",
    "#把所有list中的变小写\n",
    "L3 = ['Hello','world','PYTHON']\n",
    "[s3.lower() for s3 in L3]"
   ]
  },
  {
   "cell_type": "code",
   "execution_count": 79,
   "metadata": {},
   "outputs": [
    {
     "name": "stdout",
     "output_type": "stream",
     "text": [
      "0\n",
      "1\n",
      "4\n",
      "9\n",
      "16\n",
      "25\n",
      "36\n",
      "49\n",
      "64\n",
      "81\n",
      "100\n"
     ]
    }
   ],
   "source": [
    "#生成器generator\n",
    "g5 = (x5*x5 for x5 in range(11))\n",
    "for i5 in g5:\n",
    "    print(i5)"
   ]
  }
 ],
 "metadata": {
  "kernelspec": {
   "display_name": "Python 3",
   "language": "python",
   "name": "python3"
  },
  "language_info": {
   "codemirror_mode": {
    "name": "ipython",
    "version": 3
   },
   "file_extension": ".py",
   "mimetype": "text/x-python",
   "name": "python",
   "nbconvert_exporter": "python",
   "pygments_lexer": "ipython3",
   "version": "3.6.4"
  }
 },
 "nbformat": 4,
 "nbformat_minor": 2
}
