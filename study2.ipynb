{
 "cells": [
  {
   "cell_type": "code",
   "execution_count": 1,
   "metadata": {},
   "outputs": [
    {
     "name": "stdout",
     "output_type": "stream",
     "text": [
      "[1, 3, 5, 7, 9, 11, 13, 15, 17, 19, 21, 23, 25, 27, 29, 31, 33, 35, 37, 39, 41, 43, 45, 47, 49, 51, 53, 55, 57, 59, 61, 63, 65, 67, 69, 71, 73, 75, 77, 79, 81, 83, 85, 87, 89, 91, 93, 95, 97, 99]\n"
     ]
    }
   ],
   "source": [
    "#高级特性\n",
    "#构造一个1-99的奇数list列表\n",
    "list1 = []\n",
    "n = 1\n",
    "while n <100:\n",
    "    list1.append(n)\n",
    "    n = n + 2\n",
    "print(list1)\n",
    "#python中，代码时越少越好"
   ]
  },
  {
   "cell_type": "code",
   "execution_count": 39,
   "metadata": {},
   "outputs": [
    {
     "name": "stdout",
     "output_type": "stream",
     "text": [
      "[1, 2, 3]\n",
      "[1, 2, 3]\n",
      "[6, 7, 8]\n",
      "[6, 7, 8, 9]\n",
      "[5, 6, 7, 8, 9]\n",
      "[6]\n",
      "[1, 3, 5]\n",
      "[0, 5, 10, 15, 20, 25, 30, 35, 40, 45, 50, 55, 60, 65, 70, 75, 80, 85, 90, 95, 100]\n",
      "(1, 2, 3)\n",
      "(1, 2, 3, 4, 5, 6, 7, 8, 9, 10)\n",
      "abc\n"
     ]
    }
   ],
   "source": [
    "#python的切片功能\n",
    "list2 = [1,2,3,4,5,6,7,8,9]\n",
    "print(list2[0:3])   #表示从索引0开始，直到索引3为止，但不包括3，如果第一个索引是0还可以省略\n",
    "print(list2[:3])\n",
    "print(list2[5:-1])\n",
    "print(list2[5:])\n",
    "print(list2[-5:])\n",
    "print(list2[5:-3])\n",
    "#前6个数每两个取一个\n",
    "print(list2[:6:2])\n",
    "list21 = list(range(101))\n",
    "print(list21[::5])\n",
    "\n",
    "tuple21 = (1,2,3,4,5,6,7,8,9,10)\n",
    "print(tuple21[:3])\n",
    "print(tuple21)\n",
    "\n",
    "str21 = 'abcdefghijklmn'\n",
    "print(str21[:3])"
   ]
  },
  {
   "cell_type": "code",
   "execution_count": 57,
   "metadata": {},
   "outputs": [
    {
     "name": "stdout",
     "output_type": "stream",
     "text": [
      "a\n",
      "b\n",
      "c\n",
      "-------------------\n",
      "1\n",
      "2\n",
      "3\n",
      "-------------------\n",
      "a 1\n",
      "b 2\n",
      "c 3\n",
      "-------------------\n",
      "0 1\n",
      "1 2\n",
      "2 3\n",
      "3 4\n",
      "4 5\n"
     ]
    }
   ],
   "source": [
    "#python的迭代\n",
    "d3 = {'a':1,'b':2,'c':3}\n",
    "for key in d3:\n",
    "    print(key)\n",
    "\n",
    "print('-------------------')\n",
    "#默认情况dict迭代的是key，如果要迭代value\n",
    "for value in d3.values():\n",
    "    print(value)\n",
    "print('-------------------')\n",
    "#既要迭代key又要迭代value\n",
    "for k3,v3 in d3.items():\n",
    "    print(k3,v3)\n",
    "    \n",
    "#只要是可以迭代的对象，都可以通过for  in循环进行迭代\n",
    "#如何判断一个对象是否可以迭代\n",
    "from collections import Iterable\n",
    "isinstance('abc',Iterable)\n",
    "isinstance(123,Iterable)\n",
    "print('-------------------')\n",
    "\n",
    "#python实现带下标循环\n",
    "for i, value in enumerate([1,2,3,4,5]):\n",
    "    print(i,value)\n",
    "    \n",
    "print('-------------------')\n",
    "\n",
    "#重写无聊函数\n",
    "def"
   ]
  }
 ],
 "metadata": {
  "kernelspec": {
   "display_name": "Python 3",
   "language": "python",
   "name": "python3"
  },
  "language_info": {
   "codemirror_mode": {
    "name": "ipython",
    "version": 3
   },
   "file_extension": ".py",
   "mimetype": "text/x-python",
   "name": "python",
   "nbconvert_exporter": "python",
   "pygments_lexer": "ipython3",
   "version": "3.6.4"
  }
 },
 "nbformat": 4,
 "nbformat_minor": 2
}
