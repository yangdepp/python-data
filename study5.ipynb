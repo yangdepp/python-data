{
 "cells": [
  {
   "cell_type": "code",
   "execution_count": 33,
   "metadata": {},
   "outputs": [
    {
     "name": "stdout",
     "output_type": "stream",
     "text": [
      "一段测试的代码\n",
      "这里是python\n",
      "学好python\n",
      "------------------------\n",
      "一段测试的代码\n",
      "这里是python\n",
      "学好python\n",
      "------------------------\n",
      "一段测试的代码\n",
      "\n",
      "------------------------\n",
      "['一段测试的代码\\n', '这里是python\\n', '学好python']\n",
      "------------------------\n",
      "一段测试的代码\n",
      "这里是python\n",
      "学好python\n"
     ]
    }
   ],
   "source": [
    "#IO操作\n",
    "#读文件，open()函数，传入文件和标示符,标示符r表示读\n",
    "\n",
    "f = open('/Users/yangyi/Desktop/plan/python-data/python-data/test', 'r')\n",
    "f.read()    #打开成功，接下来，调用read()方法可以一次性读取文件的全部内容\n",
    "f.close()  #文件对象会占用操作系统的资源，所以最后一步是调用close()方法\n",
    "\n",
    "#为了保证无论如何都能正确的关闭文件，可以使用try...finally来实现\n",
    "try:\n",
    "    f1 = open('/Users/yangyi/Desktop/plan/python-data/python-data/test','r')\n",
    "    print(f1.read())\n",
    "finally:\n",
    "    if f1:\n",
    "        f1.close()\n",
    "print('------------------------')\n",
    "#但是每次这么写都比较繁琐，所以，在Python中引入了with语句来自动帮我们调用close()方法\n",
    "with open('/Users/yangyi/Desktop/plan/python-data/python-data/test','r') as f2:\n",
    "    print(f2.read())\n",
    "    \n",
    "#如果文件有10G，内存就爆满，所以可以用read(size)方法，或者调用readline()可以每次读取一行内容，调用readlines()读取所有并按行返回list\n",
    "print('------------------------')\n",
    "with open('/Users/yangyi/Desktop/plan/python-data/python-data/test','r') as f3:\n",
    "    print(f3.readline())\n",
    "print('------------------------')\n",
    "with open('/Users/yangyi/Desktop/plan/python-data/python-data/test','r') as f4:\n",
    "    print(f4.readlines())\n",
    "print('------------------------')\n",
    "with open('/Users/yangyi/Desktop/plan/python-data/python-data/test','r') as f5:\n",
    "    for line5 in f5:\n",
    "        print(line5.strip())    #把末尾的'\\n'去掉\n",
    "\n",
    "#二进制文件，需要'rb'模式打开\n",
    "# with open('/Users/yangyi/Desktop/plan/python-data/python-data/3.23.jpeg','rb') as f51:\n",
    "#     print(f51.read())\n",
    "\n",
    "#还可以设置字节编码\n",
    "# with open('/Users/yangyi/Desktop/plan/python-data/python-data/地市级党委书记数据库（2000-10）.csv','r',encoding='gbk') as f6:\n",
    "#     print(f6.read())\n",
    "    "
   ]
  },
  {
   "cell_type": "code",
   "execution_count": 42,
   "metadata": {},
   "outputs": [
    {
     "name": "stdout",
     "output_type": "stream",
     "text": [
      "你是这是测试文件写入的文件\n",
      "Hello Python,这是一段写入文件的字\n",
      "Hello Python,这是一段写入文件的字\n",
      "\n"
     ]
    }
   ],
   "source": [
    "#写文件\n",
    "#写文件和读文件唯一的不同，就是在调用open()函数时，传入标识符'w'或者'wb'表示写文本文件或写二进制文件\n",
    "#7777777777777\n",
    "with open('/Users/yangyi/Desktop/plan/python-data/python-data/write','a') as f7:\n",
    "    f7.write('Hello Python,这是一段写入文件的字\\n')\n",
    "\n",
    "with open('/Users/yangyi/Desktop/plan/python-data/python-data/write','r') as f7:\n",
    "    print(f7.read())\n"
   ]
  },
  {
   "cell_type": "code",
   "execution_count": 47,
   "metadata": {},
   "outputs": [
    {
     "data": {
      "text/plain": [
       "'/Users/yangyi/Desktop/plan/python-data/python-data'"
      ]
     },
     "execution_count": 47,
     "metadata": {},
     "output_type": "execute_result"
    }
   ],
   "source": [
    "#操作文件和目录\n",
    "import os\n",
    "os.name\n",
    "os.uname()\n",
    "os.environ\n",
    "os.environ.get('PATH')\n",
    "\n",
    "os.path.abspath('.')\n",
    "[x for x in os.listdir('.') if os.p]"
   ]
  },
  {
   "cell_type": "code",
   "execution_count": 4,
   "metadata": {},
   "outputs": [
    {
     "name": "stdout",
     "output_type": "stream",
     "text": [
      "{'name': 'Bob', 'age': 20, 'score': 88}\n"
     ]
    }
   ],
   "source": [
    "#我们把变量从内存中变成可存储或传输的过程称之为序列化，在python中叫pickling\n",
    "#序列化之后，就可以把序列化后的内容写入磁盘，或者通过网络传输到别的机器上\n",
    "#反过来，把变量从序列化的对象重新读到内存里，称之为反序列化 unpickling\n",
    "#python提供了pickle模块\n",
    "\n",
    "#我们尝试把一个对象序列化，并写入文件\n",
    "import pickle\n",
    "d = dict(name='Bob', age=20, score=88)\n",
    "pickle.dumps(d)\n",
    "\n",
    "f = open('dump.txt','wb')\n",
    "pickle.dump(d,f)   #可以直接用pickle.dump()直接把对象序列化后写入一个file-like Object\n",
    "f.close()\n",
    "\n",
    "#把对象从磁盘读到内存时，可以先把内容读到一个bytes，然后用pickle.loads()方法反序列化出对象\n",
    "#也可以用pickle.load()方法从一个file-like Object直接反序列化出对象\n",
    "f = open('dump.txt', 'rb')\n",
    "d = pickle.load(f)\n",
    "f.close()\n",
    "print(d)\n"
   ]
  },
  {
   "cell_type": "code",
   "execution_count": 10,
   "metadata": {},
   "outputs": [
    {
     "name": "stdout",
     "output_type": "stream",
     "text": [
      "{\"name\": \"Bob\", \"age\": 29, \"score\": 88}\n"
     ]
    }
   ],
   "source": [
    "#JSON\n",
    "#python内置的json模块提供了非常完善的python对象到JSON格式的转换。我们先看看如何把python对象变成一个JSON\n",
    "\n",
    "import json\n",
    "d = dict(name='Bob', age = 20, score = 88)\n",
    "json.dumps(d)\n",
    "\n",
    "#json反序列化为python对象\n",
    "json_str = '{\"name\": \"Bob\", \"age\": 20, \"score\": 88}'\n",
    "json.loads(json_str)\n",
    "\n",
    "#json进阶\n",
    "#python的dict对象可以直接序列化为JSON的{}，但是，很多时候我们更喜欢用class表示对象\n",
    "#比如定义Student类\n",
    "import json\n",
    "class Student(object):\n",
    "    def __init__(self, name, age, score):\n",
    "        self.name = name\n",
    "        self.age = age\n",
    "        self.score = score\n",
    "s = Student('Bob',29,88)\n",
    "# print(json.dumps(s))  #直接这么写会报错，\n",
    "#因为dumps()方法不知道如何将Student实例变为一个JSON的{}对象。\n",
    "def student2dict(std):\n",
    "    return {\n",
    "        'name':std.name,\n",
    "        'age':std.age,\n",
    "        'score':std.score\n",
    "    }\n",
    "\n",
    "print(json.dumps(s, default=student2dict))"
   ]
  },
  {
   "cell_type": "code",
   "execution_count": null,
   "metadata": {},
   "outputs": [],
   "source": []
  }
 ],
 "metadata": {
  "kernelspec": {
   "display_name": "Python 3",
   "language": "python",
   "name": "python3"
  },
  "language_info": {
   "codemirror_mode": {
    "name": "ipython",
    "version": 3
   },
   "file_extension": ".py",
   "mimetype": "text/x-python",
   "name": "python",
   "nbconvert_exporter": "python",
   "pygments_lexer": "ipython3",
   "version": "3.6.4"
  }
 },
 "nbformat": 4,
 "nbformat_minor": 2
}
