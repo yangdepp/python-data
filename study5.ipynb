{
 "cells": [
  {
   "cell_type": "code",
   "execution_count": 33,
   "metadata": {},
   "outputs": [
    {
     "name": "stdout",
     "output_type": "stream",
     "text": [
      "一段测试的代码\n",
      "这里是python\n",
      "学好python\n",
      "------------------------\n",
      "一段测试的代码\n",
      "这里是python\n",
      "学好python\n",
      "------------------------\n",
      "一段测试的代码\n",
      "\n",
      "------------------------\n",
      "['一段测试的代码\\n', '这里是python\\n', '学好python']\n",
      "------------------------\n",
      "一段测试的代码\n",
      "这里是python\n",
      "学好python\n"
     ]
    }
   ],
   "source": [
    "#IO操作\n",
    "#读文件，open()函数，传入文件和标示符,标示符r表示读\n",
    "\n",
    "f = open('/Users/yangyi/Desktop/plan/python-data/python-data/test', 'r')\n",
    "f.read()    #打开成功，接下来，调用read()方法可以一次性读取文件的全部内容\n",
    "f.close()  #文件对象会占用操作系统的资源，所以最后一步是调用close()方法\n",
    "\n",
    "#为了保证无论如何都能正确的关闭文件，可以使用try...finally来实现\n",
    "try:\n",
    "    f1 = open('/Users/yangyi/Desktop/plan/python-data/python-data/test','r')\n",
    "    print(f1.read())\n",
    "finally:\n",
    "    if f1:\n",
    "        f1.close()\n",
    "print('------------------------')\n",
    "#但是每次这么写都比较繁琐，所以，在Python中引入了with语句来自动帮我们调用close()方法\n",
    "with open('/Users/yangyi/Desktop/plan/python-data/python-data/test','r') as f2:\n",
    "    print(f2.read())\n",
    "    \n",
    "#如果文件有10G，内存就爆满，所以可以用read(size)方法，或者调用readline()可以每次读取一行内容，调用readlines()读取所有并按行返回list\n",
    "print('------------------------')\n",
    "with open('/Users/yangyi/Desktop/plan/python-data/python-data/test','r') as f3:\n",
    "    print(f3.readline())\n",
    "print('------------------------')\n",
    "with open('/Users/yangyi/Desktop/plan/python-data/python-data/test','r') as f4:\n",
    "    print(f4.readlines())\n",
    "print('------------------------')\n",
    "with open('/Users/yangyi/Desktop/plan/python-data/python-data/test','r') as f5:\n",
    "    for line5 in f5:\n",
    "        print(line5.strip())    #把末尾的'\\n'去掉\n",
    "\n",
    "#二进制文件，需要'rb'模式打开\n",
    "# with open('/Users/yangyi/Desktop/plan/python-data/python-data/3.23.jpeg','rb') as f51:\n",
    "#     print(f51.read())\n",
    "\n",
    "#还可以设置字节编码\n",
    "# with open('/Users/yangyi/Desktop/plan/python-data/python-data/地市级党委书记数据库（2000-10）.csv','r',encoding='gbk') as f6:\n",
    "#     print(f6.read())\n",
    "    "
   ]
  },
  {
   "cell_type": "code",
   "execution_count": 42,
   "metadata": {},
   "outputs": [
    {
     "name": "stdout",
     "output_type": "stream",
     "text": [
      "你是这是测试文件写入的文件\n",
      "Hello Python,这是一段写入文件的字\n",
      "Hello Python,这是一段写入文件的字\n",
      "\n"
     ]
    }
   ],
   "source": [
    "#写文件\n",
    "#写文件和读文件唯一的不同，就是在调用open()函数时，传入标识符'w'或者'wb'表示写文本文件或写二进制文件\n",
    "#7777777777777\n",
    "with open('/Users/yangyi/Desktop/plan/python-data/python-data/write','a') as f7:\n",
    "    f7.write('Hello Python,这是一段写入文件的字\\n')\n",
    "\n",
    "with open('/Users/yangyi/Desktop/plan/python-data/python-data/write','r') as f7:\n",
    "    print(f7.read())\n"
   ]
  },
  {
   "cell_type": "code",
   "execution_count": 47,
   "metadata": {},
   "outputs": [
    {
     "data": {
      "text/plain": [
       "'/Users/yangyi/Desktop/plan/python-data/python-data'"
      ]
     },
     "execution_count": 47,
     "metadata": {},
     "output_type": "execute_result"
    }
   ],
   "source": [
    "#操作文件和目录\n",
    "import os\n",
    "os.name\n",
    "os.uname()\n",
    "os.environ\n",
    "os.environ.get('PATH')\n",
    "\n",
    "os.path.abspath('.')\n",
    "[x for x in os.listdir('.') if os.p]"
   ]
  }
 ],
 "metadata": {
  "kernelspec": {
   "display_name": "Python 3",
   "language": "python",
   "name": "python3"
  },
  "language_info": {
   "codemirror_mode": {
    "name": "ipython",
    "version": 3
   },
   "file_extension": ".py",
   "mimetype": "text/x-python",
   "name": "python",
   "nbconvert_exporter": "python",
   "pygments_lexer": "ipython3",
   "version": "3.6.4"
  }
 },
 "nbformat": 4,
 "nbformat_minor": 2
}
