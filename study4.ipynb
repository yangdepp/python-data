{
 "cells": [
  {
   "cell_type": "code",
   "execution_count": null,
   "metadata": {},
   "outputs": [],
   "source": [
    "#python模块\n",
    "#为了维护代码，将函数分组，分别放到不同的文件中，一个.py文件就是一个模块（Module）\n",
    "#按目录来组织模块，成为包（Package）\n",
    "\n",
    "#注意，每一个包目录下都会有一个__init__.py文件，这个文件是必须存在的，否则python就会把这个目录当成是普通目录，而不是一个包。\n"
   ]
  }
 ],
 "metadata": {
  "kernelspec": {
   "display_name": "Python 3",
   "language": "python",
   "name": "python3"
  },
  "language_info": {
   "codemirror_mode": {
    "name": "ipython",
    "version": 3
   },
   "file_extension": ".py",
   "mimetype": "text/x-python",
   "name": "python",
   "nbconvert_exporter": "python",
   "pygments_lexer": "ipython3",
   "version": "3.6.4"
  }
 },
 "nbformat": 4,
 "nbformat_minor": 2
}
