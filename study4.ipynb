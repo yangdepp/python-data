{
 "cells": [
  {
   "cell_type": "code",
   "execution_count": null,
   "metadata": {},
   "outputs": [],
   "source": [
    "#python模块\n",
    "#为了维护代码，将函数分组，分别放到不同的文件中，一个.py文件就是一个模块（Module）\n",
    "#按目录来组织模块，成为包（Package）\n",
    "\n",
    "#注意，每一个包目录下都会有一个__init__.py文件，这个文件是必须存在的，否则python就会把这个目录当成是普通目录，而不是一个包。\n"
   ]
  },
  {
   "cell_type": "code",
   "execution_count": 30,
   "metadata": {},
   "outputs": [
    {
     "name": "stdout",
     "output_type": "stream",
     "text": [
      "yangdepp\n",
      "50\n",
      "yangdepp: 50\n",
      "----------------\n",
      "dddd\n",
      "66\n",
      "dddd: 66\n",
      "############################\n",
      "gggggg: 199\n",
      "gggggg\n",
      "199\n",
      "------------------\n",
      "uuuuu\n",
      "999\n"
     ]
    }
   ],
   "source": [
    "#面向对象编程\n",
    "class Student(object):\n",
    "    def __init__(self, name, score):\n",
    "        self.name = name\n",
    "        self.score = score\n",
    "\n",
    "    def print_score(self):\n",
    "        print('%s: %s' % (self.name, self.score))\n",
    "\n",
    "bart = Student('yangdepp' , 50)\n",
    "bart.age = 99\n",
    "lisa = Student('dddd',66)\n",
    "\n",
    "print(bart.name)\n",
    "print(bart.score)\n",
    "bart.print_score()\n",
    "print('----------------')\n",
    "print(lisa.name)\n",
    "print(lisa.score)\n",
    "lisa.print_score()\n",
    "print('############################')\n",
    "#访问限制\n",
    "class Students1(object):\n",
    "    def __init__(self,name,score):\n",
    "        self.__name = name\n",
    "        self.__score = score\n",
    "\n",
    "    def print_score1(self):\n",
    "        print('%s: %s' % (self.__name, self.__score))\n",
    "    \n",
    "    #下面两个函数可以获取name和score\n",
    "    def getName(self):\n",
    "        return self.__name\n",
    "    def getScore(self):\n",
    "        return self.__score\n",
    "        \n",
    "    #也可以定义一个函数修改这两个参数\n",
    "    def setName(self, name):\n",
    "        self.__name = name\n",
    "    def setScore(self, score):\n",
    "        self.__score = score\n",
    "    \n",
    "    \n",
    "go = Students1('gggggg',199)        \n",
    "go.print_score1()\n",
    "        \n",
    "#如果外部代码想要获取name和score，可以给类增加get_name和get_score\n",
    "print(go.getName())\n",
    "print(go.getScore())\n",
    "print('------------------')\n",
    "#修改这两个参数\n",
    "go.setName('uuuuu')\n",
    "print(go.getName())\n",
    "go.setScore(999)\n",
    "print(go.getScore())\n",
    "    "
   ]
  }
 ],
 "metadata": {
  "kernelspec": {
   "display_name": "Python 3",
   "language": "python",
   "name": "python3"
  },
  "language_info": {
   "codemirror_mode": {
    "name": "ipython",
    "version": 3
   },
   "file_extension": ".py",
   "mimetype": "text/x-python",
   "name": "python",
   "nbconvert_exporter": "python",
   "pygments_lexer": "ipython3",
   "version": "3.6.4"
  }
 },
 "nbformat": 4,
 "nbformat_minor": 2
}
