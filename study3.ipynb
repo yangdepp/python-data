{
 "cells": [
  {
   "cell_type": "code",
   "execution_count": 31,
   "metadata": {
    "scrolled": false
   },
   "outputs": [
    {
     "name": "stdout",
     "output_type": "stream",
     "text": [
      "[0, 1, 4, 9, 16, 25, 36, 49, 64, 81, 100, 121, 144, 169, 196, 225, 256, 289, 324, 361, 400, 441, 484, 529, 576, 625, 676, 729, 784, 841, 900, 961, 1024, 1089, 1156, 1225, 1296, 1369, 1444, 1521, 1600, 1681, 1764, 1849, 1936, 2025, 2116, 2209, 2304, 2401, 2500, 2601, 2704, 2809, 2916, 3025, 3136, 3249, 3364, 3481, 3600, 3721, 3844, 3969, 4096, 4225, 4356, 4489, 4624, 4761, 4900, 5041, 5184, 5329, 5476, 5625, 5776, 5929, 6084, 6241, 6400, 6561, 6724, 6889, 7056, 7225, 7396, 7569, 7744, 7921, 8100, 8281, 8464, 8649, 8836, 9025, 9216, 9409, 9604, 9801, 10000]\n",
      "---------------------\n",
      "['0', '1', '2', '3', '4', '5', '6', '7', '8', '9', '10', '11', '12', '13', '14', '15', '16', '17', '18', '19', '20', '21', '22', '23', '24', '25', '26', '27', '28', '29', '30', '31', '32', '33', '34', '35', '36', '37', '38', '39', '40', '41', '42', '43', '44', '45', '46', '47', '48', '49', '50', '51', '52', '53', '54', '55', '56', '57', '58', '59', '60', '61', '62', '63', '64', '65', '66', '67', '68', '69', '70', '71', '72', '73', '74', '75', '76', '77', '78', '79', '80', '81', '82', '83', '84', '85', '86', '87', '88', '89', '90', '91', '92', '93', '94', '95', '96', '97', '98', '99', '100']\n",
      "45\n",
      "45\n",
      "-----------\n",
      "123456789\n",
      "-----------\n",
      "[1, 3, 5, 7, 9, 11, 13, 15, 17, 19, 21, 23, 25, 27, 29, 31, 33, 35, 37, 39, 41, 43, 45, 47, 49, 51, 53, 55, 57, 59, 61, 63, 65, 67, 69, 71, 73, 75, 77, 79, 81, 83, 85, 87, 89, 91, 93, 95, 97, 99]\n"
     ]
    }
   ],
   "source": [
    "#函数式编程\n",
    "def add1(x,y,f):\n",
    "    return f(x) + f(y)\n",
    "add1(4,-9,abs)\n",
    "\n",
    "#map函数和reduce函数\n",
    "\n",
    "#map函数接收两个参数，一个是函数，一个是Iterable，map将传入的函数依次作用到序列的每个元素，并把结果作为新的Interable返回\n",
    "\n",
    "def f1(x):\n",
    "    return x * x\n",
    "r1 = map(f1,range(101))   #r1是可以迭代的Iterator\n",
    "print(list(r1))           #r1\n",
    "print('---------------------')\n",
    "r12 = map(str,range(101))\n",
    "print(list(r12))\n",
    "\n",
    "#reduce把一个函数作用在一个序列上，结果继续与序列下一元素做累积计算‘\n",
    "list1 = [1,2,3,4,5,6,7,8,9]\n",
    "print(sum(list1))\n",
    "\n",
    "from functools import reduce\n",
    "def f12(x,y):\n",
    "    return x+y\n",
    "sum1 = reduce(f12,list1)\n",
    "print(sum1)\n",
    "print('-----------')\n",
    "#用reduce把[1,2,3,4,5,6,7,8,9]变成整数123456789\n",
    "def f13(x,y):\n",
    "    return x*10 + y\n",
    "print(reduce(f13,list1))\n",
    "print('-----------')\n",
    "#filter函数\n",
    "#和map类似，filter也接收一个函数和一个序列，filter把传入的参数依次作用于每一个元素，然后根据返回值是True还是False决定保留还是丢弃\n",
    "#filter返回的也是一个惰性Interable，需要list()函数获得所有结果并返回\n",
    "def f14(x):\n",
    "    return x % 2 !=0\n",
    "print(list(filter(f14,range(101))))\n"
   ]
  },
  {
   "cell_type": "code",
   "execution_count": 6,
   "metadata": {},
   "outputs": [
    {
     "name": "stdout",
     "output_type": "stream",
     "text": [
      "2018-03-21\n",
      "-------------\n",
      "call now41():\n",
      "2018-03-42\n",
      "-------------\n",
      "wrapper4\n",
      "-------------------\n",
      "这是一段文本,now42():\n",
      "2019-03-23\n",
      "wrapper42\n",
      "-------------------\n",
      "call,now5:\n",
      "2018-03-22\n"
     ]
    }
   ],
   "source": [
    "#装饰器，在代码运行期间动态增加功能的方式，称之为：装饰器(decorator)\n",
    "#decorator就是一个返回函数的高阶函数\n",
    "#函数都有一个_name_属性，可以获取函数的名字\n",
    "def now4():\n",
    "    print('2018-03-21')\n",
    "f4 = now4\n",
    "f4()\n",
    "f4.__name__\n",
    "print('-------------')\n",
    "\n",
    "#在函数调用前打印日志，可以定义一个能打印日志的decorator\n",
    "def log4(func):\n",
    "    def wrapper4(*args,**kw):\n",
    "        print('call %s():' % func.__name__)\n",
    "        return func(*args, **kw)\n",
    "    return wrapper4\n",
    "@log4\n",
    "def now41():\n",
    "    print('2018-03-42')\n",
    "now41()\n",
    "print('-------------')\n",
    "print(now41.__name__)    #now41()函数返回的就是wrapper4()函数，所以函数名是wrapper4\n",
    "\n",
    "#python的@语法，把decorator置于函数的定义处，即可以调用定义的函数，把定义的函数当做参数传入\n",
    "#log4函数是一个decorator，接收一个函数作为参数（now41()）,并返回一个函数wrapper4()，\n",
    "#wrapper4()函数，可以调用外层函数的入参，打印出func.__name__\n",
    "#wrapper4()函数可以接收任意参数的入参，返回传入的定义的函数\n",
    "#外层函数返回内层函数，并且内层函数携带外层函数的入参\n",
    "#执行now41()，会先执行log4(now41),先返回wrapper4()中的返回函数:作为入参的函数now41(*args,**kw)\n",
    "\n",
    "#now41() => log4(now41) =>wrapper() =>print()日志 =>now41()\n",
    "\n",
    "print('-------------------')\n",
    "\n",
    "#如果decorator本身需要传入参数，就要编写一个返回decorator的高阶函数\n",
    "#例如：自定义log的文本\n",
    "def log42(text):\n",
    "    def decorator42(func):\n",
    "        def wrapper42(*args,**kw):\n",
    "            print('%s,%s():' % (text,func.__name__))\n",
    "            return func(*args,**kw)\n",
    "        return wrapper42\n",
    "    return decorator42\n",
    "\n",
    "@log42('这是一段文本')\n",
    "def now42():\n",
    "    print('2019-03-23')\n",
    "\n",
    "now42()\n",
    "print(now42.__name__)\n",
    "print('-------------------')\n",
    "\n",
    "\n",
    "#首先执行log42()  =>decorator42()函数  =>wrapper42()  =>print()传入的字符串和传入的函数参数now42()  =>执行now42()\n",
    "\n",
    "#由上面可以看出，经过decorator装饰之后的函数，他们的__name__已经变化\n",
    "#因此需要把原始函数的__name__等属性复制到wrapper()函数中。否则，有些依赖函数签名的代码就会出错\n",
    "#python内置的functools.wraps就是干这个事的\n",
    "import functools\n",
    "def log5(func):\n",
    "    @functools.wraps(func)    #在定义的wrapper前面加上@functools.wraps(func)即可\n",
    "    def wrapper5(*args, **kw):\n",
    "        print('call,%s:' % func.__name__)\n",
    "        return func(*args,**kw)\n",
    "    return wrapper5\n",
    "\n",
    "@log5\n",
    "def now5():\n",
    "    print('2018-03-22')\n",
    "\n",
    "now5()\n"
   ]
  },
  {
   "cell_type": "code",
   "execution_count": 41,
   "metadata": {},
   "outputs": [
    {
     "name": "stdout",
     "output_type": "stream",
     "text": [
      "100011\n",
      "127\n",
      "100000000001\n"
     ]
    }
   ],
   "source": [
    "#6偏函数，python的functools模块提供了很多有用的功能，其中一个就是偏函数（Partial function）\n",
    "\n",
    "int('100001111',base=2)\n",
    "#假设要转换大量的二进制字符串，可以定义一个int2()函数\n",
    "def int2(x, base = 2):\n",
    "    return int(x,base)\n",
    "\n",
    "#调用int2()函数\n",
    "int2('100011')\n",
    "print(int2('100011',base=10))   #还可以传入不同的参数\n",
    "\n",
    "#functools.partial就是帮助我们创建一个偏函数，不需要我们定义int2()，可以直接用下面的代码创建一个新的函数int2()\n",
    "import functools\n",
    "int6 = functools.partial(int, base=2)\n",
    "print(int6('1111111'))\n",
    "print(int6('100000000001',base=10))\n",
    "\n"
   ]
  }
 ],
 "metadata": {
  "kernelspec": {
   "display_name": "Python 3",
   "language": "python",
   "name": "python3"
  },
  "language_info": {
   "codemirror_mode": {
    "name": "ipython",
    "version": 3
   },
   "file_extension": ".py",
   "mimetype": "text/x-python",
   "name": "python",
   "nbconvert_exporter": "python",
   "pygments_lexer": "ipython3",
   "version": "3.6.4"
  }
 },
 "nbformat": 4,
 "nbformat_minor": 2
}
